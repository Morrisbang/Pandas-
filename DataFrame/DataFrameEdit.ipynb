{
  "nbformat": 4,
  "nbformat_minor": 0,
  "metadata": {
    "colab": {
      "name": "DataFrameEdit.ipynb",
      "provenance": [],
      "collapsed_sections": [],
      "authorship_tag": "ABX9TyMf2WcvVKesCThy4kCNMEIE",
      "include_colab_link": true
    },
    "kernelspec": {
      "name": "python3",
      "display_name": "Python 3"
    }
  },
  "cells": [
    {
      "cell_type": "markdown",
      "metadata": {
        "id": "view-in-github",
        "colab_type": "text"
      },
      "source": [
        "<a href=\"https://colab.research.google.com/github/Morrisbang/Pandas-/blob/main/DataFrame/DataFrameEdit.ipynb\" target=\"_parent\"><img src=\"https://colab.research.google.com/assets/colab-badge.svg\" alt=\"Open In Colab\"/></a>"
      ]
    },
    {
      "cell_type": "markdown",
      "metadata": {
        "id": "Cl8_X16gCx9C"
      },
      "source": [
        "데이터 프레임의 마스킹"
      ]
    },
    {
      "cell_type": "code",
      "metadata": {
        "colab": {
          "base_uri": "https://localhost:8080/"
        },
        "id": "vYrzjeX2CwyI",
        "outputId": "8cbe0218-6396-4db4-f68a-f9142b97e0e7"
      },
      "source": [
        "import numpy as np\n",
        "import pandas as pd\n",
        "\n",
        "df = pd.DataFrame(np.random.randint(1, 10, (2, 2)), index=[0, 1], columns=[\"A\", \"B\"])\n",
        "#데이터 프레임 출력하기\n",
        "print(df)\n",
        "#컬럼 A의 원소가 5보다 작거나 같은지 확인\n",
        "print(df[\"A\"]<5)\n",
        "df_small=df[\"A\"]<5\n",
        "#컬럼 A의 원소가 5보다 작고, 컬럼 B의 원소가 8보다 작은 행 추출\n",
        "df_out=df.query(\"A<=5 and B<=8\")\n",
        "print(df_out)"
      ],
      "execution_count": 24,
      "outputs": [
        {
          "output_type": "stream",
          "text": [
            "   A  B\n",
            "0  5  5\n",
            "1  7  5\n",
            "0    False\n",
            "1    False\n",
            "Name: A, dtype: bool\n",
            "   A  B\n",
            "0  5  5\n"
          ],
          "name": "stdout"
        }
      ]
    },
    {
      "cell_type": "code",
      "metadata": {
        "colab": {
          "base_uri": "https://localhost:8080/"
        },
        "id": "GicrnPElFpzd",
        "outputId": "840d3e11-6d38-478c-fd11-2ee24d6ff717"
      },
      "source": [
        "import pandas as pd\n",
        "\n",
        "df = pd.DataFrame([[1,2,3,4],[1,2,3,4,]], index = [0, 1], columns=[\"A\", \"B\", \"C\", \"D\"])\n",
        "print(df)\n",
        "\n",
        "df= df.apply(lambda x:x+1)\n",
        "\n",
        "print(df)\n",
        "\n",
        "def addOne(x):\n",
        "  return x + 1\n",
        "\n",
        "df = df.apply(addOne)\n",
        "print(df)"
      ],
      "execution_count": 46,
      "outputs": [
        {
          "output_type": "stream",
          "text": [
            "   A  B  C  D\n",
            "0  1  2  3  4\n",
            "1  1  2  3  4\n",
            "   A  B  C  D\n",
            "0  2  3  4  5\n",
            "1  2  3  4  5\n",
            "   A  B  C  D\n",
            "0  3  4  5  6\n",
            "1  3  4  5  6\n"
          ],
          "name": "stdout"
        }
      ]
    },
    {
      "cell_type": "code",
      "metadata": {
        "id": "cRmHMSMFGp87"
      },
      "source": [
        ""
      ],
      "execution_count": null,
      "outputs": []
    },
    {
      "cell_type": "markdown",
      "metadata": {
        "id": "GzMASmoKG0hw"
      },
      "source": [
        "데이터 프레임의 개별 연산"
      ]
    },
    {
      "cell_type": "code",
      "metadata": {
        "colab": {
          "base_uri": "https://localhost:8080/"
        },
        "id": "NAUjXSn9G3kH",
        "outputId": "65595390-4206-4ff7-f585-f60caacc88bd"
      },
      "source": [
        "#replace를 이용하면 셀의 값을 바꿀 수 있다.\n",
        "import pandas as pd\n",
        "\n",
        "df = pd.DataFrame([[1,2,3,4],[1,2,3,4,]], index = [0, 1], columns=[\"A\", \"B\", \"C\", \"D\"])\n",
        "print(df)\n",
        "\n",
        "\n",
        "df = pd.DataFrame([[1,2,3],[1,2,3]], index = [1, 2], columns=[\"A\", \"B\", \"C\"])\n",
        "print(df)\n",
        "\n",
        "df=df.replace({3:\"A\"})\n",
        "print(df)\n"
      ],
      "execution_count": 56,
      "outputs": [
        {
          "output_type": "stream",
          "text": [
            "   A  B  C  D\n",
            "0  1  2  3  4\n",
            "1  1  2  3  4\n",
            "   A  B  C\n",
            "1  1  2  3\n",
            "2  1  2  3\n",
            "   A  B  C\n",
            "1  1  2  A\n",
            "2  1  2  A\n"
          ],
          "name": "stdout"
        }
      ]
    },
    {
      "cell_type": "markdown",
      "metadata": {
        "id": "ttP2kH7kLmxC"
      },
      "source": [
        "데이터 프레임의 그룹화"
      ]
    },
    {
      "cell_type": "code",
      "metadata": {
        "colab": {
          "base_uri": "https://localhost:8080/"
        },
        "id": "Zn8Cr3moLasO",
        "outputId": "2a33f1c7-f202-4ba5-bc04-ba3482a72fa1"
      },
      "source": [
        "import pandas as pd\n",
        "df = pd.DataFrame([[\"Furit\",2,3],[\"Vegetable\",2,3],[\"Vegetable\",4,5],[\"Furit\",6,7]], index = [1, 2, 3, 4], columns=[\"A\", \"B\", \"C\"])\n",
        "print(df)\n",
        "\n",
        "print(df.groupby(['A']).sum())\n",
        "#df_group=df.groupby(['A']).sum()\n",
        "#print(df_group)\n"
      ],
      "execution_count": 69,
      "outputs": [
        {
          "output_type": "stream",
          "text": [
            "           A  B  C\n",
            "1      Furit  2  3\n",
            "2  Vegetable  2  3\n",
            "3  Vegetable  4  5\n",
            "4      Furit  6  7\n",
            "           B   C\n",
            "A               \n",
            "Furit      8  10\n",
            "Vegetable  6   8\n"
          ],
          "name": "stdout"
        }
      ]
    },
    {
      "cell_type": "code",
      "metadata": {
        "colab": {
          "base_uri": "https://localhost:8080/"
        },
        "id": "mx1C1s5-OnEL",
        "outputId": "8f37aa05-712a-424d-b478-86e011883dfb"
      },
      "source": [
        "\n",
        "import pandas as pd\n",
        "df = pd.DataFrame([[\"Furit\",2,3],[\"Vegetable\",2,3],[\"Vegetable\",4,5],[\"Furit\",6,7]], index = [1, 2, 3, 4], columns=[\"A\", \"B\", \"C\"])\n",
        "print(df)\n",
        "#aggregate는 그룹화 한 것에 대하여 데이터 정리를 해줌\n",
        "print(df.groupby(['A']).aggregate([min, max, np.average]))"
      ],
      "execution_count": 71,
      "outputs": [
        {
          "output_type": "stream",
          "text": [
            "           A  B  C\n",
            "1      Furit  2  3\n",
            "2  Vegetable  2  3\n",
            "3  Vegetable  4  5\n",
            "4      Furit  6  7\n",
            "            B               C            \n",
            "          min max average min max average\n",
            "A                                        \n",
            "Furit       2   6       4   3   7       5\n",
            "Vegetable   2   4       3   3   5       4\n"
          ],
          "name": "stdout"
        }
      ]
    },
    {
      "cell_type": "code",
      "metadata": {
        "colab": {
          "base_uri": "https://localhost:8080/"
        },
        "id": "ZlnlJfKlPVRZ",
        "outputId": "04677f60-7035-4e25-ec50-766815a8ced9"
      },
      "source": [
        "import pandas as pd\n",
        "\n",
        "df = pd.DataFrame([\n",
        "  ['Apple', 7, 5, 'Fruit'],\n",
        "  ['Banana', 3, 6, 'Fruit'],\n",
        "  ['Beef', 5, 2, 'Meal'],\n",
        "  ['Kimchi', 4, 8, 'Meal']],\n",
        "  columns=[\"Name\", \"Frequency\", \"Importance\", \"Type\"])\n",
        "\n",
        "\n",
        "#프레임 중 Frequency의 값의 평균이 5이상인 데이터만 가져와서\n",
        "def my_filter(data):\n",
        "  return data[\"Frequency\"].mean() >= 5\n",
        "\n",
        "#필터링 하는 것. \n",
        "#Type으로 그룹화 한 것 중에 my_filter의 조건을 넘긴 값만 남겨라.\n",
        "print(df)\n",
        "df = df.groupby(\"Type\").filter(my_filter)\n",
        "print(df)"
      ],
      "execution_count": 72,
      "outputs": [
        {
          "output_type": "stream",
          "text": [
            "     Name  Frequency  Importance   Type\n",
            "0   Apple          7           5  Fruit\n",
            "1  Banana          3           6  Fruit\n",
            "2    Beef          5           2   Meal\n",
            "3  Kimchi          4           8   Meal\n",
            "     Name  Frequency  Importance   Type\n",
            "0   Apple          7           5  Fruit\n",
            "1  Banana          3           6  Fruit\n"
          ],
          "name": "stdout"
        }
      ]
    },
    {
      "cell_type": "code",
      "metadata": {
        "id": "YGLRBEx_QjBF"
      },
      "source": [
        "import pandas as pd\n",
        "\n",
        "df = pd.DataFrame([\n",
        "  ['Apple', 7, 5, 'Fruit'],\n",
        "  ['Banana', 3, 6, 'Fruit'],\n",
        "  ['Beef', 5, 2, 'Meal'],\n",
        "  ['Kimchi', 4, 8, 'Meal']],\n",
        "  columns=[\"Name\", \"Frequency\", \"Importance\", \"Type\"])\n",
        "\n",
        "# Type으로 그룹화 한 것 중에 Fruit type만 가져오는 함수 get_group\n",
        "df = df.groupby(\"Type\").get_group(\"Fruit\")\n",
        "print(df)\n"
      ],
      "execution_count": null,
      "outputs": []
    },
    {
      "cell_type": "code",
      "metadata": {
        "id": "sXHRqnvzQxmP"
      },
      "source": [
        "import pandas as pd\n",
        "\n",
        "df = pd.DataFrame([\n",
        "  ['Apple', 7, 5, 'Fruit'],\n",
        "  ['Banana', 3, 6, 'Fruit'],\n",
        "  ['Beef', 5, 2, 'Meal'],\n",
        "  ['Kimchi', 4, 8, 'Meal']],\n",
        "  columns=[\"Name\", \"Frequency\", \"Importance\", \"Type\"])\n",
        "\n",
        "#제일 많이 사용하는 유형이라고 함\n",
        "df[\"Gap\"] = df.groupby(\"Type\")[\"Frequency\"].apply(lambda x: x - x.mean())\n",
        "print(df)"
      ],
      "execution_count": null,
      "outputs": []
    },
    {
      "cell_type": "code",
      "metadata": {
        "id": "ZNuzc_ikRZVG"
      },
      "source": [
        "import numpy as np\n",
        "import pandas as pd\n",
        "\n",
        "df = pd.DataFrame(\n",
        "  np.random.randint(1, 10, (4, 4)),\n",
        "  #index 다중화\n",
        "  index=[['1차', '1차', '2차', '2차'], ['공격', '수비', '공격', '수비']],\n",
        "  columns=['1회', '2회', '3회', '4회']\n",
        ")\n",
        "\n",
        "print(df)\n",
        "print(df[[\"1회\", \"2회\"]].loc[\"2차\"])"
      ],
      "execution_count": null,
      "outputs": []
    },
    {
      "cell_type": "markdown",
      "metadata": {
        "id": "5vjanpoSR3-6"
      },
      "source": [
        "피벗 테이블의 기초"
      ]
    },
    {
      "cell_type": "code",
      "metadata": {
        "id": "VxJi6vVGR2nq"
      },
      "source": [
        "import numpy as np\n",
        "import pandas as pd\n",
        "\n",
        "df = pd.DataFrame([\n",
        "    ['Apple', 7, 5, 'Fruit'],\n",
        "    ['Banana', 3, 6, 'Fruit'],\n",
        "    ['Coconut', 2, 6, 'Fruit'],\n",
        "    ['Rice', 8, 2, 'Meal'],\n",
        "    ['Beef', 5, 2, 'Meal'],\n",
        "    ['Kimchi', 4, 8, 'Meal']],\n",
        "   columns=[\"Name\", \"Frequency\", \"Importance\", \"Type\"])\n",
        "\n",
        "#피벗테이블을 통해서 데이터 프레임을 바꿔줌\n",
        "print(df)\n",
        "df = df.pivot_table(\n",
        "    index=\"Importance\", columns=\"Type\", values=\"Frequency\",\n",
        "    aggfunc=np.max\n",
        ")\n",
        "print(df)"
      ],
      "execution_count": null,
      "outputs": []
    }
  ]
}